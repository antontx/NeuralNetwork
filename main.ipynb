{
 "cells": [
  {
   "attachments": {},
   "cell_type": "markdown",
   "metadata": {},
   "source": [
    "### imports"
   ]
  },
  {
   "cell_type": "code",
   "execution_count": 2,
   "metadata": {},
   "outputs": [],
   "source": [
    "import numpy as np\n",
    "from MNISTDataLoader import load\n",
    "import matplotlib.pyplot as plt\n",
    "import seaborn as sns\n",
    "import pandas as pd"
   ]
  },
  {
   "attachments": {},
   "cell_type": "markdown",
   "metadata": {},
   "source": [
    "### loading the data"
   ]
  },
  {
   "cell_type": "code",
   "execution_count": 5,
   "metadata": {},
   "outputs": [],
   "source": [
    "training_data, test_data = load(test_images_path=\"MNIST_dataset/t10k-images.idx3-ubyte\",\n",
    "                                test_labels_path=\"MNIST_dataset/t10k-labels.idx1-ubyte\",\n",
    "                                training_images_path=\"MNIST_dataset/train-images.idx3-ubyte\",\n",
    "                                training_labels_path=\"MNIST_dataset/train-labels.idx1-ubyte\",\n",
    "                                training_size=60000,\n",
    "                                test_size=10000)"
   ]
  },
  {
   "cell_type": "code",
   "execution_count": 10,
   "metadata": {},
   "outputs": [
    {
     "name": "stdout",
     "output_type": "stream",
     "text": [
      "60000\n"
     ]
    }
   ],
   "source": [
    "print(len(training_data))"
   ]
  },
  {
   "attachments": {},
   "cell_type": "markdown",
   "metadata": {},
   "source": [
    "### creating & training the network"
   ]
  },
  {
   "cell_type": "code",
   "execution_count": null,
   "metadata": {},
   "outputs": [],
   "source": [
    "# import DenseNeuralNetwork as dnn\n",
    "# mlp = dnn.DenseNeuralNetwork([784, 64, 32, 10])\n",
    "# cost_acc_data = mlp.train_plot(training_data=training_data, epochs=150, batch_size=32, learning_rate=0.2, test_data=test_data, gd=\"mini-batch\",interval=10)"
   ]
  },
  {
   "cell_type": "code",
   "execution_count": null,
   "metadata": {},
   "outputs": [],
   "source": [
    "# import csv"
   ]
  },
  {
   "cell_type": "code",
   "execution_count": null,
   "metadata": {},
   "outputs": [],
   "source": [
    "# cost_acc_data"
   ]
  },
  {
   "cell_type": "code",
   "execution_count": null,
   "metadata": {},
   "outputs": [],
   "source": [
    "# accuracy = cost_acc_data[0]\n",
    "# mse = cost_acc_data[1]\n",
    "\n",
    "# # Calculate the maximum accuracy value\n",
    "# max_accuracy = max(accuracy)\n",
    "\n",
    "# # Transform the data into relative percentages\n",
    "# accuracy_percentages = [(value / max_accuracy) * 100 for value in accuracy]\n",
    "# mse_percentages = [(int(x) / int(y)) * 100 for value in mse for x, y in [value.split('/')]]\n",
    "\n",
    "# with open('data.csv', 'w', newline='') as file:\n",
    "#     writer = csv.writer(file)\n",
    "#     writer.writerow(['Accuracy', 'MSE'])\n",
    "#     for i in range(len(accuracy_percentages)):\n",
    "#         accuracy = int(accuracy_percentages[i])\n",
    "#         mse_value = int(mse_percentages[i])\n",
    "#         writer.writerow([accuracy, mse_value])"
   ]
  },
  {
   "cell_type": "code",
   "execution_count": null,
   "metadata": {},
   "outputs": [],
   "source": [
    "# mlp16_8 = dnn.DenseNeuralNetwork([784, 11, 10])\n",
    "# mlp16_8.train_plot(training_data=training_data, epochs=30, batch_size=32, learning_rate=1, test_data=test_data, gd=\"mini-batch\",interval=10)"
   ]
  },
  {
   "cell_type": "code",
   "execution_count": null,
   "metadata": {},
   "outputs": [],
   "source": [
    "# lr001 = dnn.DenseNeuralNetwork([784,64,32,10])\n",
    "# re001 = lr001.train_plot(training_data=training_data, epochs=100, batch_size=32, learning_rate=0.001, test_data=test_data, gd=\"mini-batch\",interval=1)"
   ]
  },
  {
   "cell_type": "code",
   "execution_count": null,
   "metadata": {},
   "outputs": [],
   "source": [
    "# lr01 = dnn.DenseNeuralNetwork([784,64,32,10])\n",
    "# re01 = lr001.train_plot(training_data=training_data, epochs=100, batch_size=32, learning_rate=0.01, test_data=test_data, gd=\"mini-batch\",interval=1)"
   ]
  },
  {
   "cell_type": "code",
   "execution_count": null,
   "metadata": {},
   "outputs": [],
   "source": [
    "# lr05 = dnn.DenseNeuralNetwork([784,64,32,10])\n",
    "# re05 = lr001.train_plot(training_data=training_data, epochs=100, batch_size=32, learning_rate=0.05, test_data=test_data, gd=\"mini-batch\",interval=1)"
   ]
  },
  {
   "cell_type": "code",
   "execution_count": null,
   "metadata": {},
   "outputs": [],
   "source": [
    "# lr1 = dnn.DenseNeuralNetwork([784,64,32,10])\n",
    "# re1 = lr001.train_plot(training_data=training_data, epochs=100, batch_size=32, learning_rate=1, test_data=test_data, gd=\"mini-batch\",interval=1)"
   ]
  },
  {
   "cell_type": "code",
   "execution_count": null,
   "metadata": {},
   "outputs": [],
   "source": [
    "# lr3 = dnn.DenseNeuralNetwork([784,64,32,10])\n",
    "# re3 = lr001.train_plot(training_data=training_data, epochs=100, batch_size=32, learning_rate=3, test_data=test_data, gd=\"mini-batch\",interval=1)"
   ]
  },
  {
   "cell_type": "code",
   "execution_count": null,
   "metadata": {},
   "outputs": [],
   "source": [
    "# lr10 = dnn.DenseNeuralNetwork([784,64,32,10])\n",
    "# re10 = lr001.train_plot(training_data=training_data, epochs=100, batch_size=32, learning_rate=10, test_data=test_data, gd=\"mini-batch\",interval=1)"
   ]
  },
  {
   "cell_type": "code",
   "execution_count": null,
   "metadata": {},
   "outputs": [],
   "source": [
    "# learning_rates = [re001[1],re01[1],re05[1],re1[1],re3[1],re10[1]]\n",
    "# print(learning_rates)"
   ]
  },
  {
   "cell_type": "code",
   "execution_count": 3,
   "metadata": {},
   "outputs": [
    {
     "data": {
      "text/plain": [
       "60000"
      ]
     },
     "execution_count": 3,
     "metadata": {},
     "output_type": "execute_result"
    }
   ],
   "source": [
    "len(training_data)"
   ]
  },
  {
   "cell_type": "code",
   "execution_count": 6,
   "metadata": {},
   "outputs": [
    {
     "name": "stdout",
     "output_type": "stream",
     "text": [
      "600\n",
      "Epoch 0: 1999/10000 MSE: 0.08926713712053945\n",
      "Epoch 5: 3246/10000 MSE: 0.08144112941050205\n",
      "Epoch 10: 4422/10000 MSE: 0.07279944896467883\n",
      "Epoch 15: 4940/10000 MSE: 0.06727615802484876\n"
     ]
    },
    {
     "ename": "KeyboardInterrupt",
     "evalue": "",
     "output_type": "error",
     "traceback": [
      "\u001b[1;31m---------------------------------------------------------------------------\u001b[0m",
      "\u001b[1;31mKeyboardInterrupt\u001b[0m                         Traceback (most recent call last)",
      "Cell \u001b[1;32mIn[6], line 9\u001b[0m\n\u001b[0;32m      6\u001b[0m net100p \u001b[39m=\u001b[39m dnn\u001b[39m.\u001b[39mDenseNeuralNetwork([\u001b[39m784\u001b[39m,\u001b[39m16\u001b[39m,\u001b[39m10\u001b[39m,\u001b[39m10\u001b[39m])\n\u001b[0;32m      8\u001b[0m \u001b[39mprint\u001b[39m(\u001b[39mint\u001b[39m((\u001b[39m1\u001b[39m\u001b[39m/\u001b[39m\u001b[39m100\u001b[39m)\u001b[39m*\u001b[39m\u001b[39mlen\u001b[39m(training_data)))\n\u001b[1;32m----> 9\u001b[0m net1p\u001b[39m.\u001b[39;49mtrain(training_data\u001b[39m=\u001b[39;49mtraining_data[:\u001b[39mint\u001b[39;49m((\u001b[39m1\u001b[39;49m\u001b[39m/\u001b[39;49m\u001b[39m100\u001b[39;49m)\u001b[39m*\u001b[39;49m\u001b[39mlen\u001b[39;49m(training_data))],learning_rate\u001b[39m=\u001b[39;49m\u001b[39m3\u001b[39;49m,test_data\u001b[39m=\u001b[39;49mtest_data,epochs\u001b[39m=\u001b[39;49m\u001b[39m30\u001b[39;49m)\n\u001b[0;32m     10\u001b[0m \u001b[39mprint\u001b[39m((\u001b[39m25\u001b[39m\u001b[39m/\u001b[39m\u001b[39m100\u001b[39m)\u001b[39m*\u001b[39m\u001b[39mlen\u001b[39m(training_data))\n\u001b[0;32m     11\u001b[0m net25p\u001b[39m.\u001b[39mtrain(training_data\u001b[39m=\u001b[39mtraining_data[:\u001b[39mint\u001b[39m((\u001b[39m25\u001b[39m\u001b[39m/\u001b[39m\u001b[39m100\u001b[39m)\u001b[39m*\u001b[39m\u001b[39mlen\u001b[39m(training_data))],learning_rate\u001b[39m=\u001b[39m\u001b[39m3\u001b[39m,test_data\u001b[39m=\u001b[39mtest_data,epochs\u001b[39m=\u001b[39m\u001b[39m30\u001b[39m)\n",
      "File \u001b[1;32md:\\Development\\ASdhaJKSDh\\DenseNeuralNetwork.py:70\u001b[0m, in \u001b[0;36mDenseNeuralNetwork.train\u001b[1;34m(self, training_data, gd, batch_size, learning_rate, epochs, test_data, interval)\u001b[0m\n\u001b[0;32m     68\u001b[0m \u001b[39mfor\u001b[39;00m epoch \u001b[39min\u001b[39;00m \u001b[39mrange\u001b[39m(epochs):\n\u001b[0;32m     69\u001b[0m     \u001b[39mif\u001b[39;00m gd \u001b[39m==\u001b[39m \u001b[39m\"\u001b[39m\u001b[39mmini-batch\u001b[39m\u001b[39m\"\u001b[39m:\n\u001b[1;32m---> 70\u001b[0m         \u001b[39mself\u001b[39;49m\u001b[39m.\u001b[39;49mtrain_mini_batch(training_data, batch_size, learning_rate, epochs, test_data)\n\u001b[0;32m     71\u001b[0m     \u001b[39melif\u001b[39;00m gd \u001b[39m==\u001b[39m \u001b[39m\"\u001b[39m\u001b[39mbatch\u001b[39m\u001b[39m\"\u001b[39m:\n\u001b[0;32m     72\u001b[0m         \u001b[39mself\u001b[39m\u001b[39m.\u001b[39mtrain_batch(training_data, learning_rate, epochs, test_data)\n",
      "File \u001b[1;32md:\\Development\\ASdhaJKSDh\\DenseNeuralNetwork.py:166\u001b[0m, in \u001b[0;36mDenseNeuralNetwork.train_mini_batch\u001b[1;34m(self, training_data, batch_size, learning_rate, epochs, test_data)\u001b[0m\n\u001b[0;32m    162\u001b[0m batch_size \u001b[39m=\u001b[39m \u001b[39mlen\u001b[39m(batch)\n\u001b[0;32m    164\u001b[0m \u001b[39mfor\u001b[39;00m x, y \u001b[39min\u001b[39;00m batch:\n\u001b[0;32m    165\u001b[0m     \u001b[39m# calculate the gradient for the current example\u001b[39;00m\n\u001b[1;32m--> 166\u001b[0m     bias_gradients_single, weight_gradients_single \u001b[39m=\u001b[39m \u001b[39mself\u001b[39;49m\u001b[39m.\u001b[39;49mbackprop(x, y)\n\u001b[0;32m    167\u001b[0m     bias_gradients \u001b[39m+\u001b[39m\u001b[39m=\u001b[39m bias_gradients_single\n\u001b[0;32m    168\u001b[0m     weight_gradients \u001b[39m+\u001b[39m\u001b[39m=\u001b[39m weight_gradients_single\n",
      "File \u001b[1;32md:\\Development\\ASdhaJKSDh\\DenseNeuralNetwork.py:187\u001b[0m, in \u001b[0;36mDenseNeuralNetwork.backprop\u001b[1;34m(self, x, y)\u001b[0m\n\u001b[0;32m    184\u001b[0m E[last_layer] \u001b[39m=\u001b[39m np\u001b[39m.\u001b[39mmultiply(a[\u001b[39m-\u001b[39m\u001b[39m1\u001b[39m]\u001b[39m-\u001b[39my, sigmoid(z[\u001b[39m-\u001b[39m\u001b[39m1\u001b[39m], \u001b[39mTrue\u001b[39;00m))\n\u001b[0;32m    186\u001b[0m bias_gradients[last_layer] \u001b[39m=\u001b[39m E[last_layer]\n\u001b[1;32m--> 187\u001b[0m weights_gradients[last_layer] \u001b[39m=\u001b[39m np\u001b[39m.\u001b[39;49mdot(E[last_layer], a[last_layer]\u001b[39m.\u001b[39;49mtranspose())\n\u001b[0;32m    189\u001b[0m \u001b[39mfor\u001b[39;00m layer \u001b[39min\u001b[39;00m \u001b[39mrange\u001b[39m(last_layer\u001b[39m-\u001b[39m\u001b[39m1\u001b[39m, \u001b[39m-\u001b[39m\u001b[39m1\u001b[39m, \u001b[39m-\u001b[39m\u001b[39m1\u001b[39m):\n\u001b[0;32m    191\u001b[0m     E[layer] \u001b[39m=\u001b[39m np\u001b[39m.\u001b[39mmultiply(\n\u001b[0;32m    192\u001b[0m         np\u001b[39m.\u001b[39mdot(\u001b[39mself\u001b[39m\u001b[39m.\u001b[39mweights[layer\u001b[39m+\u001b[39m\u001b[39m1\u001b[39m]\u001b[39m.\u001b[39mtranspose(), E[layer\u001b[39m+\u001b[39m\u001b[39m1\u001b[39m]), sigmoid(z[layer], \u001b[39mTrue\u001b[39;00m))\n",
      "File \u001b[1;32m<__array_function__ internals>:180\u001b[0m, in \u001b[0;36mdot\u001b[1;34m(*args, **kwargs)\u001b[0m\n",
      "\u001b[1;31mKeyboardInterrupt\u001b[0m: "
     ]
    }
   ],
   "source": [
    "import DenseNeuralNetwork as dnn\n",
    "net1p = dnn.DenseNeuralNetwork([784,16,10,10])\n",
    "net25p = dnn.DenseNeuralNetwork([784,16,10,10])\n",
    "net50p = dnn.DenseNeuralNetwork([784,16,10,10])\n",
    "net75p = dnn.DenseNeuralNetwork([784,16,10,10])\n",
    "net100p = dnn.DenseNeuralNetwork([784,16,10,10])\n",
    "\n",
    "print(int((1/100)*len(training_data)))\n",
    "net1p.train(training_data=training_data[:int((1/100)*len(training_data))],learning_rate=3,test_data=test_data,epochs=30)\n",
    "print((25/100)*len(training_data))\n",
    "net25p.train(training_data=training_data[:int((25/100)*len(training_data))],learning_rate=3,test_data=test_data,epochs=30)\n",
    "print((50/100)*len(training_data))\n",
    "net50p.train(training_data=training_data[:int((50/100)*len(training_data))],learning_rate=3,test_data=test_data,epochs=30)\n",
    "net100p.train(training_data=training_data,learning_rate=3,test_data=test_data,epochs=30)"
   ]
  },
  {
   "cell_type": "code",
   "execution_count": 12,
   "metadata": {},
   "outputs": [
    {
     "name": "stdout",
     "output_type": "stream",
     "text": [
      "Epoch 0: 8906/10000 MSE: 0.017530476495343814\n",
      "Epoch 5: 9276/10000 MSE: 0.011556311982061224\n",
      "Epoch 10: 9308/10000 MSE: 0.011102066427144171\n",
      "Epoch 15: 9340/10000 MSE: 0.010398778324478716\n",
      "Epoch 20: 9375/10000 MSE: 0.009950125990566204\n",
      "Epoch 25: 9367/10000 MSE: 0.009991892011828218\n",
      "Epoch 29: 9380/10000 MSE: 0.009845995173481819\n"
     ]
    }
   ],
   "source": [
    "net75p.train(training_data=training_data[:int((75/100)*len(training_data))],learning_rate=3,test_data=test_data,epochs=30)\n"
   ]
  },
  {
   "cell_type": "code",
   "execution_count": null,
   "metadata": {},
   "outputs": [],
   "source": [
    "# import csv\n",
    "\n",
    "# percentages = [[int(num.split('/')[0]) / int(num.split('/')[1]) * 100 for num in sublist] for sublist in learning_rates]\n",
    "\n",
    "# # Transpose the data\n",
    "# transposed_data = list(map(list, zip(*percentages)))\n",
    "\n",
    "# # Save the data to a CSV file\n",
    "# with open('learning_rates.csv', 'w', newline='') as csvfile:\n",
    "#     writer = csv.writer(csvfile)\n",
    "#     writer.writerows(transposed_data)"
   ]
  }
 ],
 "metadata": {
  "kernelspec": {
   "display_name": "Python 3",
   "language": "python",
   "name": "python3"
  },
  "language_info": {
   "codemirror_mode": {
    "name": "ipython",
    "version": 3
   },
   "file_extension": ".py",
   "mimetype": "text/x-python",
   "name": "python",
   "nbconvert_exporter": "python",
   "pygments_lexer": "ipython3",
   "version": "3.11.2"
  },
  "orig_nbformat": 4
 },
 "nbformat": 4,
 "nbformat_minor": 2
}
