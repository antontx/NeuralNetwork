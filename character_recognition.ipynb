import numpy as np
from MNISTDataLoader import load
import matplotlib.pyplot as plt
import seaborn as sns
import pandas as pd